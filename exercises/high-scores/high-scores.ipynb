{
    "cells": [
        {
            "cell_type": "markdown",
            "metadata": {},
            "source": ["Manage a game player's High Score list.\n", "\n", "Your task is to build a high-score component of the classic Frogger game, one of the highest selling and addictive games of all time, and a classic of the arcade era. Your task is to write methods that return the highest score from the list, the last added score and the three highest scores."]
        },
        {
            "cell_type": "markdown",
            "metadata": {},
            "source": ["## Your solution"]
        },
        {
            "cell_type": "code",
            "execution_count": null,
            "metadata": {},
            "outputs": [],
            "source": ["# submit\n", "\n", "function list(scores::Array)\n", "\n", "end\n", "\n", "function latest(scores::Array)\n", "\n", "end\n", "\n", "function personalBest(scores::Array)\n", "\n", "end\n", "\n", "function personalTopThree(scores::Array)\n", "\n", "end"]
        },
        {
            "cell_type": "markdown",
            "metadata": {},
            "source": ["## Test suite"]
        },
        {
            "cell_type": "code",
            "execution_count": null,
            "metadata": {},
            "outputs": [],
            "source": ["# canonical data version 4.0.0\n", "\n", "using Test\n", "\n", "# include(\"high-scores.jl\")\n", "\n", "\n", "@testset \"List of scores\" begin\n", "    @test list([30, 50, 20, 70]) == [30, 50, 20, 70]\n", "end\n", "\n", "@testset \"Latest score\" begin\n", "    @test latest([100, 0, 90, 30]) == 30\n", "end\n", "\n", "@testset \"Personal best\" begin\n", "    @test personalBest([40, 100, 70]) == 100\n", "end\n", "\n", "@testset \"Top 3 scores\" begin\n", "    @test personalTopThree([10, 30, 90, 30, 100, 20, 10, 0, 30, 40, 40, 70, 70]) == [100, 90, 70]\n", "end\n", "\n", "@testset \"Personal top highest to lowest\" begin\n", "    @test personalTopThree([20, 10, 30]) == [30, 20, 10]\n", "end\n", "\n", "@testset \"Personal top when there is a tie\" begin\n", "    @test personalTopThree([40, 20, 40, 30]) == [40, 40, 30]\n", "end\n", "\n", "@testset \"Personal top when there are less than 3\" begin\n", "    @test personalTopThree([30, 70]) == [70, 30]\n", "end\n", "\n", "@testset \"Personal top when there is only one\" begin\n", "    @test personalTopThree([40]) == [40]\n", "end"]
        },
        {
            "cell_type": "markdown",
            "metadata": {},
            "source": [
                "## Prepare submission\n",
                "To submit your exercise, you need to save your solution in a file called `high-scores.jl` before using the CLI.\n",
                "You can either create it manually or use the following functions, which will automatically write every notebook cell that starts with `# submit` to the file `high-scores.jl`.\n"
            ]
        },
        {
            "cell_type": "code",
            "execution_count": null,
            "metadata": {},
            "outputs": [],
            "source": [
                "# using Pkg; Pkg.add(\"Exercism\")\n",
                "# using Exercism\n",
                "# Exercism.create_submission(\"high-scores\")"
            ]
        }
    ],
    "metadata": {
        "kernelspec": {
            "display_name": "Julia 1.3.0",
            "language": "julia",
            "name": "julia-1.3"
        },
        "language_info": {
            "file_extension": ".jl",
            "mimetype": "application/julia",
            "name": "julia",
            "version": "1.3.0"
        }
    },
    "nbformat": 4,
    "nbformat_minor": 2
}
